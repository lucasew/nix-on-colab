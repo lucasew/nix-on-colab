{
  "nbformat": 4,
  "nbformat_minor": 0,
  "metadata": {
    "colab": {
      "name": "Untitled5.ipynb",
      "provenance": []
    },
    "kernelspec": {
      "name": "python3",
      "display_name": "Python 3"
    },
    "language_info": {
      "name": "python"
    }
  },
  "cells": [
    {
      "cell_type": "markdown",
      "source": [
        "# nix-on-colab\n",
        "\n",
        "To use Nix inside Google Colab just do the following in one cell"
      ],
      "metadata": {
        "id": "fH-cvOCcl8ax"
      }
    },
    {
      "cell_type": "code",
      "source": [
        "!git clone https://github.com/lucasew/nix-on-colab /tmp/nix-on-colab\n",
        "!/tmp/nix-on-colab/setup"
      ],
      "metadata": {
        "colab": {
          "base_uri": "https://localhost:8080/"
        },
        "id": "lA1mIxj1mGxP",
        "outputId": "860fc15e-f68c-46e4-c070-e5210ee54a97"
      },
      "execution_count": 1,
      "outputs": [
        {
          "output_type": "stream",
          "name": "stdout",
          "text": [
            "Cloning into '/tmp/nix-on-colab'...\n",
            "remote: Enumerating objects: 46, done.\u001b[K\n",
            "remote: Counting objects: 100% (46/46), done.\u001b[K\n",
            "remote: Compressing objects: 100% (32/32), done.\u001b[K\n",
            "remote: Total 46 (delta 21), reused 38 (delta 13), pack-reused 0\u001b[K\n",
            "Unpacking objects: 100% (46/46), done.\n",
            "install: cannot stat '/tmp/nix-on-colab/deroot_in': No such file or directory\n",
            "  % Total    % Received % Xferd  Average Speed   Time    Time     Time  Current\n",
            "                                 Dload  Upload   Total   Spent    Left  Speed\n",
            "  0     0    0     0    0     0      0      0 --:--:-- --:--:-- --:--:--     0\n",
            "100  4053  100  4053    0     0  14372      0 --:--:-- --:--:-- --:--:-- 14372\n",
            "downloading Nix 2.8.0 binary tarball for x86_64-linux from 'https://releases.nixos.org/nix/nix-2.8.0/nix-2.8.0-x86_64-linux.tar.xz' to '/tmp/nix-binary-tarball-unpack.aLFAXVqoTk'...\n",
            "  % Total    % Received % Xferd  Average Speed   Time    Time     Time  Current\n",
            "                                 Dload  Upload   Total   Spent    Left  Speed\n",
            "100 27.4M  100 27.4M    0     0  77.6M      0 --:--:-- --:--:-- --:--:-- 77.6M\n",
            "Note: a multi-user installation is possible. See https://nixos.org/manual/nix/stable/installation/installing-binary.html#multi-user-installation\n",
            "performing a single-user installation of Nix...\n",
            "copying Nix to /nix/store...\n",
            "\n",
            "installing 'nix-2.8.0'\n",
            "building '/nix/store/8nhrnmf16d6gamqn8ab3ranv0pr2r9yq-user-environment.drv'...\n",
            "unpacking channels...\n",
            "modifying /content/user/.profile...\n",
            "\n",
            "Installation finished!  To ensure that the necessary environment\n",
            "variables are set, either log in again, or type\n",
            "\n",
            "  . /content/user/.nix-profile/etc/profile.d/nix.sh\n",
            "\n",
            "in your shell.\n"
          ]
        }
      ]
    },
    {
      "cell_type": "markdown",
      "source": [
        "Then to use the utilities and stuff you run the command after adding `deroot`.\n",
        "\n",
        "You need to use deroot because all Colab stuff runs as root user and this causes some nasty stuff so setup creates a non root script with sudo privileges.\n",
        "\n",
        "Flakes are enabled by default by enabling the experimental feature, so out of the box flaky experience ❄️."
      ],
      "metadata": {
        "id": "xe2uG56fmXxN"
      }
    },
    {
      "cell_type": "code",
      "source": [
        "!deroot nix run nixpkgs#hello"
      ],
      "metadata": {
        "colab": {
          "base_uri": "https://localhost:8080/"
        },
        "id": "mIb25A0Sm3h1",
        "outputId": "b8d88fbb-c6de-4d7d-d3ce-d70737e2b340"
      },
      "execution_count": 2,
      "outputs": [
        {
          "output_type": "stream",
          "name": "stdout",
          "text": [
            "\u001b[KHello, world!\n"
          ]
        }
      ]
    }
  ]
}